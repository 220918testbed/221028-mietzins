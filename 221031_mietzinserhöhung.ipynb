{
 "cells": [
  {
   "cell_type": "markdown",
   "id": "4c6fc5e3",
   "metadata": {},
   "source": [
    "# Zulässige Mietzinsanpassung\n",
    "\n",
    "Was gestützt auf eine Anpassung des Hypothekarzinses eine zulässige Mietzinserhöhung ist, wird in [Art. 13 Abs. 1 VMWG](https://www.fedlex.admin.ch/eli/cc/1990/835_835_835/de#art_13) geregelt:\n",
    "\n",
    ">**Art. 13 Hypothekarzinse**\n",
    ">\n",
    ">Eine Hypothekarzinserhöhung von einem Viertel Prozent berechtigt in der Regel zu einer Mietzinserhöhung von höchstens:\n",
    ">\n",
    ">a. 2 Prozent bei Hypothekarzinssätzen von mehr als 6 Prozent;\n",
    ">\n",
    ">b. 2,5 Prozent bei Hypothekarzinssätzen zwischen 5 und 6 Prozent;\n",
    ">\n",
    ">c. 3 Prozent bei Hypothekarzinssätzen von weniger als 5 Prozent.\n",
    ">\n",
    ">Bei Hypothekarzinssenkungen sind die Mietzinse entsprechend herabzusetzen oder die Einsparungen mit inzwischen eingetretenen Kostensteigerungen zu verrechnen.\n",
    "\n",
    "Programmieren Sie eine Anwendung, mit welcher der aktuelle Mietzins, der aktuelle [Referenzzinssatz des Bundesamtes für Wohnungswesen](https://www.bwo.admin.ch/bwo/de/home/mietrecht/referenzzinssatz/entwicklung-referenzzinssatz-und-durchschnittszinssatz.html) sowie dessen Erhöhung abgefragt werden und welches dann die maximal zulässige Mietzinserhöhung zurückgibt."
   ]
  },
  {
   "cell_type": "code",
   "execution_count": null,
   "id": "8ace169c",
   "metadata": {},
   "outputs": [],
   "source": []
  }
 ],
 "metadata": {
  "kernelspec": {
   "display_name": "Python 3 (ipykernel)",
   "language": "python",
   "name": "python3"
  },
  "language_info": {
   "codemirror_mode": {
    "name": "ipython",
    "version": 3
   },
   "file_extension": ".py",
   "mimetype": "text/x-python",
   "name": "python",
   "nbconvert_exporter": "python",
   "pygments_lexer": "ipython3",
   "version": "3.9.7"
  }
 },
 "nbformat": 4,
 "nbformat_minor": 5
}
